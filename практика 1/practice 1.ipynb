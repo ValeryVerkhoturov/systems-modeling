{
 "cells": [
  {
   "cell_type": "code",
   "execution_count": 162,
   "outputs": [],
   "source": [
    "import random\n",
    "import math\n",
    "\n",
    "from IPython.core.display_functions import display\n",
    "import pandas as pd\n",
    "from numpy import float64\n",
    "\n",
    "RESULT_PATH = \"практика 1/result.csv\""
   ],
   "metadata": {
    "collapsed": false,
    "pycharm": {
     "name": "#%%\n"
    }
   }
  },
  {
   "cell_type": "markdown",
   "source": [
    "# Задание 1. Нахождение числа $\\Pi$ методом Монте Карло"
   ],
   "metadata": {
    "collapsed": false,
    "pycharm": {
     "name": "#%% md\n"
    }
   }
  },
  {
   "cell_type": "code",
   "execution_count": 131,
   "outputs": [],
   "source": [
    "def calc_pi(x_0, y_0, r_0, exp_nmb):\n",
    "    m = 0\n",
    "    for i in range(exp_nmb):\n",
    "        xp = random.uniform(-r_0, r_0)\n",
    "        yp = random.uniform(-r_0, r_0)\n",
    "        if (xp + x_0) ** 2 + (yp + y_0) ** 2 < r_0 ** 2:\n",
    "            m += 1\n",
    "    pi = 4 * m / exp_nmb\n",
    "    return pi"
   ],
   "metadata": {
    "collapsed": false,
    "pycharm": {
     "name": "#%%\n"
    }
   }
  },
  {
   "cell_type": "markdown",
   "source": [
    "# Задание 2. Серии вычислений"
   ],
   "metadata": {
    "collapsed": false,
    "pycharm": {
     "name": "#%% md\n"
    }
   }
  },
  {
   "cell_type": "code",
   "execution_count": 132,
   "outputs": [],
   "source": [
    "EXP_NUMBS = [10 ** 4, 10 ** 5, 10 ** 6, 10 ** 7, 10 ** 8]\n",
    "SER_NAMES = [\"SERIA_1\", \"SERIA_2\", \"SERIA_3\", \"SERIA_4\", \"SERIA_5\"]"
   ],
   "metadata": {
    "collapsed": false,
    "pycharm": {
     "name": "#%%\n"
    }
   }
  },
  {
   "cell_type": "code",
   "execution_count": 133,
   "outputs": [],
   "source": [
    "def calculation():\n",
    "    ser = pd.Series(dtype=float64, index=EXP_NUMBS)\n",
    "    for exp_nmb in EXP_NUMBS:\n",
    "        pi = calc_pi(0, 0, 1, exp_nmb)\n",
    "        ser.at[exp_nmb] = pi\n",
    "    # display(ser)\n",
    "    return ser\n",
    "\n",
    "\n",
    "def series_of_calculation():\n",
    "    df = pd.DataFrame(index=EXP_NUMBS)\n",
    "    for ser_name in SER_NAMES:\n",
    "        ser = calculation()\n",
    "        df[ser_name] = ser\n",
    "    return df\n",
    "\n",
    "\n",
    "def save_result():\n",
    "    df = series_of_calculation()\n",
    "    display(df)\n",
    "    df.to_csv(RESULT_PATH, mode=\"w+\") # overwrite file mode"
   ],
   "metadata": {
    "collapsed": false,
    "pycharm": {
     "name": "#%%\n"
    }
   }
  },
  {
   "cell_type": "code",
   "execution_count": 134,
   "outputs": [
    {
     "data": {
      "text/plain": "            SERIA_1   SERIA_2   SERIA_3   SERIA_4   SERIA_5\n10000      3.107600  3.135200  3.137600  3.147600  3.139600\n100000     3.145920  3.141520  3.141320  3.135920  3.130320\n1000000    3.141508  3.143296  3.141956  3.140272  3.143748\n10000000   3.142140  3.142452  3.142016  3.141128  3.141762\n100000000  3.141472  3.141633  3.141414  3.141582  3.141907",
      "text/html": "<div>\n<style scoped>\n    .dataframe tbody tr th:only-of-type {\n        vertical-align: middle;\n    }\n\n    .dataframe tbody tr th {\n        vertical-align: top;\n    }\n\n    .dataframe thead th {\n        text-align: right;\n    }\n</style>\n<table border=\"1\" class=\"dataframe\">\n  <thead>\n    <tr style=\"text-align: right;\">\n      <th></th>\n      <th>SERIA_1</th>\n      <th>SERIA_2</th>\n      <th>SERIA_3</th>\n      <th>SERIA_4</th>\n      <th>SERIA_5</th>\n    </tr>\n  </thead>\n  <tbody>\n    <tr>\n      <th>10000</th>\n      <td>3.107600</td>\n      <td>3.135200</td>\n      <td>3.137600</td>\n      <td>3.147600</td>\n      <td>3.139600</td>\n    </tr>\n    <tr>\n      <th>100000</th>\n      <td>3.145920</td>\n      <td>3.141520</td>\n      <td>3.141320</td>\n      <td>3.135920</td>\n      <td>3.130320</td>\n    </tr>\n    <tr>\n      <th>1000000</th>\n      <td>3.141508</td>\n      <td>3.143296</td>\n      <td>3.141956</td>\n      <td>3.140272</td>\n      <td>3.143748</td>\n    </tr>\n    <tr>\n      <th>10000000</th>\n      <td>3.142140</td>\n      <td>3.142452</td>\n      <td>3.142016</td>\n      <td>3.141128</td>\n      <td>3.141762</td>\n    </tr>\n    <tr>\n      <th>100000000</th>\n      <td>3.141472</td>\n      <td>3.141633</td>\n      <td>3.141414</td>\n      <td>3.141582</td>\n      <td>3.141907</td>\n    </tr>\n  </tbody>\n</table>\n</div>"
     },
     "metadata": {},
     "output_type": "display_data"
    }
   ],
   "source": [
    "save_result()"
   ],
   "metadata": {
    "collapsed": false,
    "pycharm": {
     "name": "#%%\n"
    }
   }
  },
  {
   "cell_type": "markdown",
   "source": [
    "# Задание 3."
   ],
   "metadata": {
    "collapsed": false,
    "pycharm": {
     "name": "#%% md\n"
    }
   }
  },
  {
   "cell_type": "code",
   "execution_count": 183,
   "outputs": [
    {
     "name": "stdout",
     "output_type": "stream",
     "text": [
      "Погрешность вычислений значений числа для каждой серии экспериментов\n"
     ]
    },
    {
     "data": {
      "text/plain": "SERIA_1    0.015832\nSERIA_2    0.003222\nSERIA_3    0.001850\nSERIA_4    0.004177\nSERIA_5    0.005321\ndtype: float64"
     },
     "metadata": {},
     "output_type": "display_data"
    },
    {
     "name": "stdout",
     "output_type": "stream",
     "text": [
      "Средний результат для каждой серии:\n"
     ]
    },
    {
     "data": {
      "text/plain": "SERIA_1    3.135728\nSERIA_2    3.140820\nSERIA_3    3.140861\nSERIA_4    3.141300\nSERIA_5    3.139467\ndtype: float64"
     },
     "metadata": {},
     "output_type": "display_data"
    },
    {
     "name": "stdout",
     "output_type": "stream",
     "text": [
      "Погрешность для усредненных значений: 0.0022898452550936727\n"
     ]
    }
   ],
   "source": [
    "def calculate_std(path):\n",
    "    df = pd.read_csv(path)\n",
    "\n",
    "    stds = pd.Series(dtype=float64)\n",
    "    for seria_name, seria_data in df[SER_NAMES].iteritems():\n",
    "        stds.at[seria_name] = seria_data.std()\n",
    "    print(\"Погрешность вычислений значений числа для каждой серии экспериментов\")\n",
    "    display(stds)\n",
    "\n",
    "    means = pd.Series(dtype=float64)\n",
    "    for seria_name, seria_data in df[SER_NAMES].iteritems():\n",
    "        means.at[seria_name] = seria_data.mean()\n",
    "    print(\"Средний результат для каждой серии:\")\n",
    "    display(means)\n",
    "    print(\"Погрешность для усредненных значений:\", means.std())\n",
    "\n",
    "\n",
    "calculate_std(RESULT_PATH)"
   ],
   "metadata": {
    "collapsed": false,
    "pycharm": {
     "name": "#%%\n"
    }
   }
  },
  {
   "cell_type": "markdown",
   "source": [
    "# Задание 4. Задача нахождения определенного интеграла\n",
    "\n",
    "Найти значения определенного интеграла функции $f(x)=x^3+1$ на интервале $(0;\\,2)$. Провести три серии расчетов для числа экспериментов $ExpNmb=10^4,\\,10^5,\\,10^6,\\,10^7$."
   ],
   "metadata": {
    "collapsed": false,
    "pycharm": {
     "name": "#%% md\n"
    }
   }
  },
  {
   "cell_type": "code",
   "execution_count": 179,
   "outputs": [],
   "source": [
    "TASK_4_EXP_NUMBS = [10 ** 4, 10 ** 5, 10 ** 6, 10 ** 7]\n",
    "TASK_4_SER_NAMES = [\"SERIA_1\", \"SERIA_2\", \"SERIA_3\", \"SERIA_4\"]\n",
    "FUNCTION = lambda x: x ** 3 + 1\n",
    "X_MIN = 0\n",
    "X_MAX = 2\n",
    "Y_MIN = 0\n",
    "Y_MAX = 10\n",
    "\n",
    "TASK_4_RESULT_PATH = \"практика 1/task 4 result.csv\""
   ],
   "metadata": {
    "collapsed": false,
    "pycharm": {
     "name": "#%%\n"
    }
   }
  },
  {
   "cell_type": "code",
   "execution_count": 180,
   "outputs": [
    {
     "data": {
      "text/plain": "<Figure size 640x480 with 1 Axes>",
      "image/png": "[encoded data removed]"
     },
     "metadata": {},
     "output_type": "display_data"
    }
   ],
   "source": [
    "def task_4_draw_function(func):\n",
    "    import matplotlib.pyplot as plt\n",
    "    import numpy as np\n",
    "\n",
    "    x = np.linspace(-1,5,100)\n",
    "\n",
    "    fig = plt.figure()\n",
    "    ax = fig.add_subplot(1, 1, 1)\n",
    "    ax.spines['left'].set_position('center')\n",
    "    ax.spines['bottom'].set_position('zero')\n",
    "    ax.spines['right'].set_color('none')\n",
    "    ax.spines['top'].set_color('none')\n",
    "    ax.xaxis.set_ticks_position('bottom')\n",
    "    ax.yaxis.set_ticks_position('left')\n",
    "\n",
    "    # plot the function\n",
    "    plt.plot(x, func(x), 'r')\n",
    "\n",
    "    # show the plot\n",
    "    plt.show()\n",
    "\n",
    "task_4_draw_function(FUNCTION)\n"
   ],
   "metadata": {
    "collapsed": false,
    "pycharm": {
     "name": "#%%\n"
    }
   }
  },
  {
   "cell_type": "code",
   "execution_count": 182,
   "outputs": [
    {
     "data": {
      "text/plain": "10000       5.946000\n100000      5.993400\n1000000     6.011720\n10000000    5.998252\ndtype: float64"
     },
     "metadata": {},
     "output_type": "display_data"
    },
    {
     "data": {
      "text/plain": "10000       6.016000\n100000      5.974000\n1000000     5.989900\n10000000    6.002152\ndtype: float64"
     },
     "metadata": {},
     "output_type": "display_data"
    },
    {
     "data": {
      "text/plain": "10000       5.968000\n100000      5.965800\n1000000     6.010780\n10000000    5.995488\ndtype: float64"
     },
     "metadata": {},
     "output_type": "display_data"
    },
    {
     "data": {
      "text/plain": "10000       5.812000\n100000      5.925800\n1000000     5.991820\n10000000    5.996378\ndtype: float64"
     },
     "metadata": {},
     "output_type": "display_data"
    },
    {
     "data": {
      "text/plain": "10000       5.852000\n100000      6.015400\n1000000     5.991480\n10000000    6.002566\ndtype: float64"
     },
     "metadata": {},
     "output_type": "display_data"
    }
   ],
   "source": [
    "def task_4_calc_function(func, exp_nmb):\n",
    "\n",
    "    m = 0\n",
    "    s_par = abs((Y_MAX - Y_MIN) * (X_MAX - X_MIN))\n",
    "    for i in range(exp_nmb):\n",
    "        xp = random.uniform(X_MIN, X_MAX)\n",
    "        yp = random.uniform(Y_MIN, Y_MAX)\n",
    "        if func(xp) > yp:\n",
    "            m += 1\n",
    "    s = s_par * m / exp_nmb\n",
    "    return s\n",
    "\n",
    "\n",
    "def task_4_calculation():\n",
    "    ser = pd.Series(dtype=float64, index=TASK_4_EXP_NUMBS)\n",
    "    for exp_nmb in TASK_4_EXP_NUMBS:\n",
    "        s = task_4_calc_function(FUNCTION, exp_nmb)\n",
    "        ser.at[exp_nmb] = s\n",
    "    display(ser)\n",
    "    return ser\n",
    "\n",
    "\n",
    "def task_4_series_of_calculation():\n",
    "    df = pd.DataFrame(index=TASK_4_EXP_NUMBS)\n",
    "    for ser_name in SER_NAMES:\n",
    "        ser = task_4_calculation()\n",
    "        df[ser_name] = ser\n",
    "    return df\n",
    "\n",
    "\n",
    "def task_4_save_result():\n",
    "    df = task_4_series_of_calculation()\n",
    "    df.to_csv(TASK_4_RESULT_PATH, mode=\"w+\") # overwrite file mode\n",
    "\n",
    "task_4_save_result()"
   ],
   "metadata": {
    "collapsed": false,
    "pycharm": {
     "name": "#%%\n"
    }
   }
  },
  {
   "cell_type": "code",
   "execution_count": 184,
   "outputs": [
    {
     "name": "stdout",
     "output_type": "stream",
     "text": [
      "Погрешность вычислений значений числа для каждой серии экспериментов\n"
     ]
    },
    {
     "data": {
      "text/plain": "SERIA_1    0.028631\nSERIA_2    0.017871\nSERIA_3    0.021850\nSERIA_4    0.085946\nSERIA_5    0.076204\ndtype: float64"
     },
     "metadata": {},
     "output_type": "display_data"
    },
    {
     "name": "stdout",
     "output_type": "stream",
     "text": [
      "Средний результат для каждой серии:\n"
     ]
    },
    {
     "data": {
      "text/plain": "SERIA_1    5.987343\nSERIA_2    5.995513\nSERIA_3    5.985017\nSERIA_4    5.931500\nSERIA_5    5.965362\ndtype: float64"
     },
     "metadata": {},
     "output_type": "display_data"
    },
    {
     "name": "stdout",
     "output_type": "stream",
     "text": [
      "Погрешность для усредненных значений: 0.0256787321450065\n"
     ]
    }
   ],
   "source": [
    "calculate_std(TASK_4_RESULT_PATH)"
   ],
   "metadata": {
    "collapsed": false,
    "pycharm": {
     "name": "#%%\n"
    }
   }
  },
  {
   "cell_type": "code",
   "execution_count": null,
   "outputs": [],
   "source": [],
   "metadata": {
    "collapsed": false,
    "pycharm": {
     "name": "#%%\n"
    }
   }
  }
 ],
 "metadata": {
  "kernelspec": {
   "display_name": "Python 3",
   "language": "python",
   "name": "python3"
  },
  "language_info": {
   "codemirror_mode": {
    "name": "ipython",
    "version": 2
   },
   "file_extension": ".py",
   "mimetype": "text/x-python",
   "name": "python",
   "nbconvert_exporter": "python",
   "pygments_lexer": "ipython2",
   "version": "2.7.6"
  }
 },
 "nbformat": 4,
 "nbformat_minor": 0
}