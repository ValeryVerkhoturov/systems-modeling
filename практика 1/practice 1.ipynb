{
 "cells": [
  {
   "cell_type": "code",
   "execution_count": 31,
   "outputs": [],
   "source": [
    "import random\n",
    "import math\n",
    "\n",
    "from IPython.core.display_functions import display\n",
    "import pandas as pd\n",
    "from numpy import float64\n",
    "\n",
    "RESULT_PATH = \"result.csv\""
   ],
   "metadata": {
    "collapsed": false,
    "pycharm": {
     "name": "#%%\n"
    }
   }
  },
  {
   "cell_type": "markdown",
   "source": [
    "# Задание 1. Нахождение числа $\\Pi$ методом Монте-Карло"
   ],
   "metadata": {
    "collapsed": false,
    "pycharm": {
     "name": "#%% md\n"
    }
   }
  },
  {
   "cell_type": "code",
   "execution_count": null,
   "outputs": [],
   "source": [
    "def calc_pi(x_0, y_0, r, exp_nmb):\n",
    "    m = 0\n",
    "    x_min = x_0 - r\n",
    "    x_max = x_0 + r\n",
    "    y_min = y_0 - r\n",
    "    y_max = y_0 + r\n",
    "    for i in range(exp_nmb):\n",
    "        xp = random.uniform(x_min, x_max)\n",
    "        yp = random.uniform(y_min, y_max)\n",
    "        if (xp - x_0) ** 2 + (yp - y_0) ** 2 <= r**2:\n",
    "            m += 1\n",
    "    pi = 4 * m / exp_nmb\n",
    "    return pi"
   ],
   "metadata": {
    "collapsed": false,
    "pycharm": {
     "name": "#%%\n"
    }
   }
  },
  {
   "cell_type": "markdown",
   "source": [
    "# Задание 2. Серии вычислений"
   ],
   "metadata": {
    "collapsed": false,
    "pycharm": {
     "name": "#%% md\n"
    }
   }
  },
  {
   "cell_type": "code",
   "execution_count": null,
   "outputs": [],
   "source": [
    "EXP_NUMBS = [10**4, 10**5, 10**6, 10**7, 10**8]\n",
    "SER_NAMES = [\"SERIA_1\", \"SERIA_2\", \"SERIA_3\", \"SERIA_4\", \"SERIA_5\"]"
   ],
   "metadata": {
    "collapsed": false,
    "pycharm": {
     "name": "#%%\n"
    }
   }
  },
  {
   "cell_type": "code",
   "execution_count": null,
   "outputs": [],
   "source": [
    "def calculation():\n",
    "    ser = pd.Series(dtype=float64, index=EXP_NUMBS)\n",
    "    for exp_nmb in EXP_NUMBS:\n",
    "        pi = calc_pi(0, 0, 1, exp_nmb)\n",
    "        ser.at[exp_nmb] = pi\n",
    "    # display(ser)\n",
    "    return ser\n",
    "\n",
    "\n",
    "def series_of_calculation():\n",
    "    df = pd.DataFrame(index=EXP_NUMBS)\n",
    "    for ser_name in SER_NAMES:\n",
    "        ser = calculation()\n",
    "        df[ser_name] = ser\n",
    "    return df\n",
    "\n",
    "\n",
    "def save_result():\n",
    "    df = series_of_calculation()\n",
    "    display(df)\n",
    "    df.to_csv(RESULT_PATH, mode=\"w+\")  # overwrite file mode"
   ],
   "metadata": {
    "collapsed": false,
    "pycharm": {
     "name": "#%%\n"
    }
   }
  },
  {
   "cell_type": "code",
   "execution_count": null,
   "outputs": [],
   "source": [
    "save_result()"
   ],
   "metadata": {
    "collapsed": false,
    "pycharm": {
     "name": "#%%\n"
    }
   }
  },
  {
   "cell_type": "markdown",
   "source": [
    "# Задание 3."
   ],
   "metadata": {
    "collapsed": false,
    "pycharm": {
     "name": "#%% md\n"
    }
   }
  },
  {
   "cell_type": "code",
   "execution_count": null,
   "outputs": [],
   "source": [
    "def calculate_std(path, ser_names):\n",
    "    df = pd.read_csv(path)\n",
    "\n",
    "    stds = pd.Series(dtype=float64)\n",
    "    for seria_name, seria_data in df[ser_names].iteritems():\n",
    "        stds.at[seria_name] = seria_data.std()\n",
    "    print(\"Погрешность вычислений значений числа для каждой серии экспериментов\")\n",
    "    display(stds)\n",
    "\n",
    "    means = pd.Series(dtype=float64)\n",
    "    for seria_name, seria_data in df[ser_names].iteritems():\n",
    "        means.at[seria_name] = seria_data.mean()\n",
    "    print(\"Средний результат для каждой серии:\")\n",
    "    display(means)\n",
    "    print(\"Погрешность для усредненных значений:\", means.std())\n",
    "\n",
    "\n",
    "calculate_std(RESULT_PATH, SER_NAMES)"
   ],
   "metadata": {
    "collapsed": false,
    "pycharm": {
     "name": "#%%\n"
    }
   }
  },
  {
   "cell_type": "markdown",
   "source": [
    "# Задание 4. Задача нахождения определенного интеграла\n",
    "\n",
    "Найти значения определенного интеграла функции $f(x)=x^3+1$ на интервале $(0;\\,2)$. Провести три серии расчетов для числа экспериментов $ExpNmb=10^4,\\,10^5,\\,10^6,\\,10^7$."
   ],
   "metadata": {
    "collapsed": false,
    "pycharm": {
     "name": "#%% md\n"
    }
   }
  },
  {
   "cell_type": "code",
   "execution_count": null,
   "outputs": [],
   "source": [
    "TASK_4_EXP_NUMBS = [10**4, 10**5, 10**6, 10**7]\n",
    "TASK_4_SER_NAMES = [\"SERIA_1\", \"SERIA_2\", \"SERIA_3\", \"SERIA_4\"]\n",
    "FUNCTION = lambda x: x**3 + 1\n",
    "\n",
    "TASK_4_RESULT_PATH = \"task 4 result.csv\""
   ],
   "metadata": {
    "collapsed": false,
    "pycharm": {
     "name": "#%%\n"
    }
   }
  },
  {
   "cell_type": "code",
   "execution_count": null,
   "outputs": [],
   "source": [
    "def task_4_draw_function(func):\n",
    "    import matplotlib.pyplot as plt\n",
    "    import numpy as np\n",
    "\n",
    "    x = np.linspace(-1, 3, 12)\n",
    "\n",
    "    fig = plt.figure()\n",
    "    ax = fig.add_subplot(1, 1, 1)\n",
    "    ax.spines[\"left\"].set_position(\"zero\")\n",
    "    ax.spines[\"bottom\"].set_position(\"zero\")\n",
    "    ax.spines[\"right\"].set_color(\"none\")\n",
    "    ax.spines[\"top\"].set_color(\"none\")\n",
    "    ax.xaxis.set_ticks_position(\"bottom\")\n",
    "    ax.yaxis.set_ticks_position(\"left\")\n",
    "\n",
    "    # plot the function\n",
    "    plt.plot(x, func(x), \"r\")\n",
    "\n",
    "    # show the plot\n",
    "    plt.show()\n",
    "\n",
    "\n",
    "task_4_draw_function(FUNCTION)"
   ],
   "metadata": {
    "collapsed": false,
    "pycharm": {
     "name": "#%%\n"
    }
   }
  },
  {
   "cell_type": "code",
   "execution_count": null,
   "outputs": [],
   "source": [
    "X_MIN = 0\n",
    "X_MAX = 2\n",
    "Y_MIN = 0\n",
    "Y_MAX = 9"
   ],
   "metadata": {
    "collapsed": false,
    "pycharm": {
     "name": "#%%\n"
    }
   }
  },
  {
   "cell_type": "code",
   "execution_count": null,
   "outputs": [],
   "source": [
    "def task_4_calc_function(func, exp_nmb):\n",
    "\n",
    "    m = 0\n",
    "    s_par = abs((Y_MAX - Y_MIN) * (X_MAX - X_MIN))\n",
    "    for i in range(exp_nmb):\n",
    "        xp = random.uniform(X_MIN, X_MAX)\n",
    "        yp = random.uniform(Y_MIN, Y_MAX)\n",
    "        if func(xp) > yp:\n",
    "            m += 1\n",
    "    s = s_par * m / exp_nmb\n",
    "    return s\n",
    "\n",
    "\n",
    "def task_4_calculation():\n",
    "    ser = pd.Series(dtype=float64, index=TASK_4_EXP_NUMBS)\n",
    "    for exp_nmb in TASK_4_EXP_NUMBS:\n",
    "        s = task_4_calc_function(FUNCTION, exp_nmb)\n",
    "        ser.at[exp_nmb] = s\n",
    "    display(ser)\n",
    "    return ser\n",
    "\n",
    "\n",
    "def task_4_series_of_calculation():\n",
    "    df = pd.DataFrame(index=TASK_4_EXP_NUMBS)\n",
    "    for ser_name in TASK_4_SER_NAMES:\n",
    "        ser = task_4_calculation()\n",
    "        df[ser_name] = ser\n",
    "    return df\n",
    "\n",
    "\n",
    "def task_4_save_result():\n",
    "    df = task_4_series_of_calculation()\n",
    "    df.to_csv(TASK_4_RESULT_PATH, mode=\"w+\")\n",
    "\n",
    "\n",
    "task_4_save_result()"
   ],
   "metadata": {
    "collapsed": false,
    "pycharm": {
     "name": "#%%\n"
    }
   }
  },
  {
   "cell_type": "code",
   "execution_count": 47,
   "outputs": [
    {
     "name": "stdout",
     "output_type": "stream",
     "text": [
      "Погрешность вычислений значений числа для каждой серии экспериментов\n"
     ]
    },
    {
     "data": {
      "text/plain": "SERIA_1    0.042496\nSERIA_2    0.014994\nSERIA_3    0.026861\nSERIA_4    0.028598\ndtype: float64"
     },
     "metadata": {},
     "output_type": "display_data"
    },
    {
     "name": "stdout",
     "output_type": "stream",
     "text": [
      "Средний результат для каждой серии:\n"
     ]
    },
    {
     "data": {
      "text/plain": "SERIA_1    6.016812\nSERIA_2    6.006083\nSERIA_3    6.011452\nSERIA_4    5.990243\ndtype: float64"
     },
     "metadata": {},
     "output_type": "display_data"
    },
    {
     "name": "stdout",
     "output_type": "stream",
     "text": [
      "Погрешность для усредненных значений: 0.011471983847726217\n"
     ]
    }
   ],
   "source": [
    "calculate_std(TASK_4_RESULT_PATH, TASK_4_SER_NAMES)"
   ],
   "metadata": {
    "collapsed": false,
    "pycharm": {
     "name": "#%%\n"
    }
   }
  },
  {
   "cell_type": "code",
   "execution_count": 41,
   "outputs": [],
   "source": [],
   "metadata": {
    "collapsed": false,
    "pycharm": {
     "name": "#%%\n"
    }
   }
  }
 ],
 "metadata": {
  "kernelspec": {
   "display_name": "Python 3",
   "language": "python",
   "name": "python3"
  },
  "language_info": {
   "codemirror_mode": {
    "name": "ipython",
    "version": 2
   },
   "file_extension": ".py",
   "mimetype": "text/x-python",
   "name": "python",
   "nbconvert_exporter": "python",
   "pygments_lexer": "ipython2",
   "version": "2.7.6"
  }
 },
 "nbformat": 4,
 "nbformat_minor": 0
}